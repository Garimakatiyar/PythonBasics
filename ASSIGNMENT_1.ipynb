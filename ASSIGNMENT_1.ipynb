{
  "nbformat": 4,
  "nbformat_minor": 0,
  "metadata": {
    "colab": {
      "provenance": []
    },
    "kernelspec": {
      "name": "python3",
      "display_name": "Python 3"
    },
    "language_info": {
      "name": "python"
    }
  },
  "cells": [
    {
      "cell_type": "markdown",
      "source": [
        "# PYTHON BASICS"
      ],
      "metadata": {
        "id": "URgQb8RHbWYm"
      }
    },
    {
      "cell_type": "markdown",
      "source": [
        "1. What is Python, and why is it popular?\n",
        "  - Python is a high level,easy to use, object oriented programming language developed by Guido van rossum in 1991.\n",
        "  It is popular due to its various features like\n",
        "   1. Easy to understand and use\n",
        "   2. Object oriented programming language.\n",
        "   3. Platform independent\n",
        "   3. Syntax highlighting."
      ],
      "metadata": {
        "id": "FIa_9jtgbLRK"
      }
    },
    {
      "cell_type": "markdown",
      "source": [
        "2. What is an interpreter in Python ?\n",
        "  - Python is an interpreted language which executes line by line code rather than compiling the entire code into machine language before execution. It makes easier for the user to find the error."
      ],
      "metadata": {
        "id": "J5-co52ncaEd"
      }
    },
    {
      "cell_type": "markdown",
      "source": [
        "3.What are pre-defined keywords in Python?\n",
        "  - Pre-defined keywords in python are reserved words with specific meaning and purpose. For eg - bool, import, def, print, etc."
      ],
      "metadata": {
        "id": "JWhU5oTCc65L"
      }
    },
    {
      "cell_type": "markdown",
      "source": [
        "4.Can keywords be used as variable names ?\n",
        "  -  No, Python keywords cannot be used as a variable names."
      ],
      "metadata": {
        "id": "ehqxOrKtdXp9"
      }
    },
    {
      "cell_type": "markdown",
      "source": [
        "5.What is mutability in Python?\n",
        "  - Mutability in python refers to change the object after its created which is allowed in list. Some data structure are immutable, once created cannot be changed like Tuple, Dictionaries, Sets and strings."
      ],
      "metadata": {
        "id": "-ficqGCMd1Fw"
      }
    },
    {
      "cell_type": "markdown",
      "source": [
        "6.  Why are lists mutable, but tuples are immutable ?\n",
        "  - Lists and tuples both are data containers which contains elements but they are designed in such way that the list once created can be changed as many times as you want that's why it is known as mutable but tuple on the other side is immutable. If you've entered a data in tuple it cannot be changed. Both lists and tuples has its different use cases which makes them different from each other."
      ],
      "metadata": {
        "id": "rp5f8bF3effO"
      }
    },
    {
      "cell_type": "code",
      "source": [],
      "metadata": {
        "id": "n3ABLDDzdsxS"
      },
      "execution_count": null,
      "outputs": []
    },
    {
      "cell_type": "markdown",
      "source": [
        "7. What is the difference between “==” and “is” operators in Python ?\n",
        "  - The \"==\" operator is used to check for equality of values and also used to compare the elements and \"is\" operator is used to check for identity mainly used to compare objects and check if a variable is None."
      ],
      "metadata": {
        "id": "B_PQitJkfk3Y"
      }
    },
    {
      "cell_type": "markdown",
      "source": [
        "8. What are logical operators in Python ?\n",
        "  - Logical operators are used to combine different conditional statements, allowing us to perform operations based on multiple conditions .\n",
        "  1. LOGICAL AND - If both the condition is true then only the result will be true otherwise it will be false.\n",
        "  2. LOGICAL OR - If any one condition is true then the result will be true otherwise it will be false.\n",
        "  3. LOGICAL NOT - If the condition is true then it will become false of If the condition is false then it will become true. It reverse the condition."
      ],
      "metadata": {
        "id": "eR4JxhhdgYnY"
      }
    },
    {
      "cell_type": "markdown",
      "source": [
        "9. What is typecasting in Python ?\n",
        "  - Type Casting is the method to convert the Python variable datatype into a certain data type in order to perform the required operation by users.  Typecasting is divided into two types . 1. Explicit typecasting\n",
        "  2. Implicit typecasting."
      ],
      "metadata": {
        "id": "zIpUgNxDh8oU"
      }
    },
    {
      "cell_type": "markdown",
      "source": [
        "10. What is the difference between implicit and explicit type casting ?\n",
        "  - Implicit Type casting - In this method, Python automatically converts the data type into another data type on its own. For eg - a = 5\n",
        "  b= 7.5\n",
        "  print (5+7.5)\n",
        "\n",
        "  - Explicit Type casting - In this method, We can convert the data type into another data type manually.\n",
        "  For eg - a =5\n",
        "  b = float(a)"
      ],
      "metadata": {
        "id": "ZffEMCazixW2"
      }
    },
    {
      "cell_type": "markdown",
      "source": [
        "11.  What is the purpose of conditional statements in Python ?\n",
        "  - The purpose of conditional statements in python are to excecute certain block of code and basis of certain conditions.\n",
        "  Eg - if, if-else, if-elif-else, nested-if-else."
      ],
      "metadata": {
        "id": "hTyvqWoUk0eG"
      }
    },
    {
      "cell_type": "markdown",
      "source": [
        "12.How does the elif statement work ?\n",
        "  - The elif statement is used to check multiple conditions sequentially. If the first if condition is false then elif condition will be condition, if that is also false then it will go the next elif condition."
      ],
      "metadata": {
        "id": "cTpjXRNAlacU"
      }
    },
    {
      "cell_type": "markdown",
      "source": [
        "13. What is the difference between for and while loops ?\n",
        "  -  While loop is executed repeatedly until a condition is met. For loop iterates over a sequence of elements."
      ],
      "metadata": {
        "id": "IxhrO2RQmAoJ"
      }
    },
    {
      "cell_type": "markdown",
      "source": [
        "14. Describe a scenario where a while loop is more suitable than a for loop.\n",
        "  - A while loop is more suitable than a for loop in python when the number of iterations is not known in advance and the loop should continue until a certain condition is no longer true.\n",
        "  For eg- If I am writing a program which asks the user to enter the password. You can keep on asking untile they enter the correct one."
      ],
      "metadata": {
        "id": "t8KSl1kVmuLQ"
      }
    },
    {
      "cell_type": "markdown",
      "source": [
        "# PRACTICAL QUESTIONS\n"
      ],
      "metadata": {
        "id": "GgparThbnrcS"
      }
    },
    {
      "cell_type": "markdown",
      "source": [
        "1. Write a Python program to print \"Hello world\".\n",
        "  - print(\"Hello world\")"
      ],
      "metadata": {
        "id": "yAPJDT8anzno"
      }
    },
    {
      "cell_type": "code",
      "source": [
        "print(\"Hello world\")"
      ],
      "metadata": {
        "colab": {
          "base_uri": "https://localhost:8080/"
        },
        "id": "xEFmV0Ebn_lZ",
        "outputId": "0534251a-42cd-4505-9a1e-a851629ee7e5"
      },
      "execution_count": 2,
      "outputs": [
        {
          "output_type": "stream",
          "name": "stdout",
          "text": [
            "Hello world\n"
          ]
        }
      ]
    },
    {
      "cell_type": "markdown",
      "source": [
        "2. Write a Python program that displays your name and age.\n",
        "  - a = input(\"Enter your name\")\n",
        "b = input (\"Enter your age\")\n",
        "print (a)\n",
        "print(b)\n",
        "\n",
        "or\n",
        "\n",
        "name = \"Garima\"\n",
        "age = 24\n",
        "print (name)\n",
        "print(age)"
      ],
      "metadata": {
        "id": "1eBAL0RJoNrb"
      }
    },
    {
      "cell_type": "code",
      "source": [
        "a = input(\"Enter your name\")\n",
        "b = input (\"Enter your age\")\n",
        "print (a)\n",
        "print(b)"
      ],
      "metadata": {
        "colab": {
          "base_uri": "https://localhost:8080/"
        },
        "id": "4aQ_vR8ToTKt",
        "outputId": "38e1d217-8f17-4570-c307-5f87d7321415"
      },
      "execution_count": 3,
      "outputs": [
        {
          "output_type": "stream",
          "name": "stdout",
          "text": [
            "Enter your nameGarima\n",
            "Enter your age24\n",
            "Garima\n",
            "24\n"
          ]
        }
      ]
    },
    {
      "cell_type": "markdown",
      "source": [
        "3. Write code to print all the pre-defined keywords in Python using the keyword library.\n",
        "  - help('keywords')"
      ],
      "metadata": {
        "id": "XNm7nFdko2-Y"
      }
    },
    {
      "cell_type": "code",
      "source": [
        "help('keywords')"
      ],
      "metadata": {
        "colab": {
          "base_uri": "https://localhost:8080/"
        },
        "id": "IdnZw2rVpA0E",
        "outputId": "e46958df-9037-4e64-be54-72ada9c2dc0e"
      },
      "execution_count": 5,
      "outputs": [
        {
          "output_type": "stream",
          "name": "stdout",
          "text": [
            "\n",
            "Here is a list of the Python keywords.  Enter any keyword to get more help.\n",
            "\n",
            "False               class               from                or\n",
            "None                continue            global              pass\n",
            "True                def                 if                  raise\n",
            "and                 del                 import              return\n",
            "as                  elif                in                  try\n",
            "assert              else                is                  while\n",
            "async               except              lambda              with\n",
            "await               finally             nonlocal            yield\n",
            "break               for                 not                 \n",
            "\n"
          ]
        }
      ]
    },
    {
      "cell_type": "markdown",
      "source": [
        "4. Write a program that checks if a given word is a Python keyword.\n",
        "  -import keyword\n",
        "word = input(\"Enter a word: \")\n",
        "if word in keyword.kwlist:\n",
        "  print(f\" '{word}' is a python keyword\")\n",
        "else:\n",
        "  print(f\" '{word}' is not a python keyword\")"
      ],
      "metadata": {
        "id": "L9BJ8KcepFTP"
      }
    },
    {
      "cell_type": "code",
      "source": [
        "import keyword\n",
        "word = input(\"Enter a word: \")\n",
        "if word in keyword.kwlist:\n",
        "  print(f\" '{word}' is a python keyword\")\n",
        "else:\n",
        "  print(f\" '{word}' is not a python keyword\")"
      ],
      "metadata": {
        "colab": {
          "base_uri": "https://localhost:8080/"
        },
        "id": "QzqhS64apfB8",
        "outputId": "21f7aa09-3edf-45a4-8467-98cb31d0bfa5"
      },
      "execution_count": 7,
      "outputs": [
        {
          "output_type": "stream",
          "name": "stdout",
          "text": [
            "Enter a word: defintion\n",
            " 'defintion' is not a python keyword\n"
          ]
        }
      ]
    },
    {
      "cell_type": "markdown",
      "source": [
        "5. Create a list and tuple in Python, and demonstrate how attempting to change an element works differently\n",
        "for each.\n",
        "  - #Creating a list\n",
        "a_list = [\"Garima\",\"Antima\",22,56.7,2+3j]\n",
        "#Creating a tuple (Tuples are immutable and elements can't be changes once added)\n",
        "b_tuple = (\"Garima\",\"Antima\",22,56.7)\n",
        "a_list[1]= (\"Amisha\")\n",
        "print(a_list)\n"
      ],
      "metadata": {
        "id": "lncitOe_p9D5"
      }
    },
    {
      "cell_type": "code",
      "source": [
        "#Creating a list\n",
        "a_list = [\"Garima\",\"Antima\",22,56.7,2+3j]\n",
        "#Creating a tuple\n",
        "b_tuple = (\"Garima\",\"Antima\",22,56.7)\n",
        "a_list[1]= (\"Amisha\")\n",
        "print(a_list)"
      ],
      "metadata": {
        "colab": {
          "base_uri": "https://localhost:8080/"
        },
        "id": "qXVYY5iDtGpI",
        "outputId": "a29dd23d-fc60-486f-b5f3-cb47b5c6112a"
      },
      "execution_count": 10,
      "outputs": [
        {
          "output_type": "stream",
          "name": "stdout",
          "text": [
            "['Garima', 'Amisha', 22, 56.7, (2+3j)]\n"
          ]
        }
      ]
    },
    {
      "cell_type": "markdown",
      "source": [
        "6.  Write a function to demonstrate the behavior of mutable and immutable arguments.\n",
        "  -def change_value(x, lst):\n",
        "  x = x+5\n",
        "  print(\"Inside function:\")\n",
        "  print(\"x =\", x)\n",
        "  print(\"lst = \", lst)\n",
        "a = 10\n",
        "b = [1,2,3]\n",
        "\n",
        "change_value(a,b)\n",
        "print(\"\\nOutside function:\")\n",
        "print(\"a = \", a)\n",
        "print(\"b = \",b)"
      ],
      "metadata": {
        "id": "Nm_Oapcqu0Oa"
      }
    },
    {
      "cell_type": "code",
      "source": [
        "def change_value(x, lst):\n",
        "  x = x+5\n",
        "  print(\"Inside function:\")\n",
        "  print(\"x =\", x)\n",
        "  print(\"lst = \", lst)\n",
        "a = 10\n",
        "b = [1,2,3]\n",
        "\n",
        "change_value(a,b)\n",
        "print(\"\\nOutside function:\")\n",
        "print(\"a = \", a)\n",
        "print(\"b = \",b)\n",
        "\n"
      ],
      "metadata": {
        "colab": {
          "base_uri": "https://localhost:8080/"
        },
        "id": "TPnQhdn4vyUY",
        "outputId": "964f1680-f631-4a33-a4f3-c18e1f9f4925"
      },
      "execution_count": 12,
      "outputs": [
        {
          "output_type": "stream",
          "name": "stdout",
          "text": [
            "Inside function:\n",
            "x = 15\n",
            "lst =  [1, 2, 3]\n",
            "\n",
            "Outside function:\n",
            "a =  10\n",
            "b =  [1, 2, 3]\n"
          ]
        }
      ]
    },
    {
      "cell_type": "markdown",
      "source": [
        "7.  Write a program that performs basic arithmetic operations on two user-input numbers.\n",
        "a = int(input(\"Enter first number:\"))\n",
        "b = int(input(\"Enter second number:\"))\n",
        "\n",
        "c = a+b\n",
        "print(\"The addition of two numbers is\" ,c)\n",
        "\n",
        "d = a-b\n",
        "print(\"The subtraction of two numbers is\", d)\n",
        "\n",
        "e = a *b\n",
        "print(\"The multiplication of two numbers is\", e)\n",
        "\n",
        "f = a /b\n",
        "print(\"The division of two numbers is \", f)"
      ],
      "metadata": {
        "id": "yAeweFL-wrxD"
      }
    },
    {
      "cell_type": "code",
      "source": [
        "a = int(input(\"Enter first number:\"))\n",
        "b = int(input(\"Enter second number:\"))\n",
        "\n",
        "c = a+b\n",
        "print(\"The addition of two numbers is\" ,c)\n",
        "\n",
        "d = a-b\n",
        "print(\"The subtraction of two numbers is\", d)\n",
        "\n",
        "e = a *b\n",
        "print(\"The multiplication of two numbers is\", e)\n",
        "\n",
        "f = a /b\n",
        "print(\"The division of two numbers is \", f)"
      ],
      "metadata": {
        "colab": {
          "base_uri": "https://localhost:8080/"
        },
        "id": "MDfbNpgQwyCn",
        "outputId": "40a5cc86-3e6c-4d92-e345-297cffb96981"
      },
      "execution_count": 13,
      "outputs": [
        {
          "output_type": "stream",
          "name": "stdout",
          "text": [
            "Enter first number:85\n",
            "Enter second number12\n",
            "The addition of two numbers is 97\n",
            "The subtraction of two numbers is 73\n",
            "The multiplication of two numbers is 1020\n",
            "The division of two numbers is  7.083333333333333\n"
          ]
        }
      ]
    },
    {
      "cell_type": "markdown",
      "source": [
        "8.  Write a program to demonstrate the use of logical operators.\n",
        "  - a = 10\n",
        "b = 15\n",
        "\n",
        "print(a>5 and b> 10)\n",
        "print( a>5 and b<10)\n",
        "print(not(a==10))\n"
      ],
      "metadata": {
        "id": "gW6U5c4JxaQQ"
      }
    },
    {
      "cell_type": "code",
      "source": [
        "a = 10\n",
        "b = 15\n",
        "\n",
        "print(a>5 and b> 10)\n",
        "print( a>5 and b<10)\n",
        "print(not(a==10))\n"
      ],
      "metadata": {
        "colab": {
          "base_uri": "https://localhost:8080/"
        },
        "id": "WSOAyHMM3uu3",
        "outputId": "cb88ef47-36ac-4fc8-aa18-cabf906fe182"
      },
      "execution_count": 14,
      "outputs": [
        {
          "output_type": "stream",
          "name": "stdout",
          "text": [
            "True\n",
            "False\n",
            "False\n"
          ]
        }
      ]
    },
    {
      "cell_type": "markdown",
      "source": [
        "9. Write a python program to convert user input from string to integer, float, and boolean types.\n",
        "  - user_input = input(\"Enter a value :\")\n",
        "if user_input.isdigit():\n",
        "  print(\"integer:\",int(user_input))\n",
        "else:\n",
        "  print(\"Cannot convert to integer:\")"
      ],
      "metadata": {
        "id": "fhk5bH5Q4YCA"
      }
    },
    {
      "cell_type": "code",
      "source": [
        "user_input = input(\"Enter a value :\")\n",
        "if user_input.isdigit():\n",
        "  print(\"integer:\",int(user_input))\n",
        "else:\n",
        "  print(\"Cannot convert to integer:\")\n"
      ],
      "metadata": {
        "colab": {
          "base_uri": "https://localhost:8080/"
        },
        "id": "guaz8Kq65UcM",
        "outputId": "c5f9a1ca-80fd-4cde-841a-cfec65dc1cd2"
      },
      "execution_count": 17,
      "outputs": [
        {
          "output_type": "stream",
          "name": "stdout",
          "text": [
            "Enter a value :15\n",
            "integer: 15\n"
          ]
        }
      ]
    },
    {
      "cell_type": "markdown",
      "source": [
        "10.  Write code to demonstrate type casting with list elements.\n",
        "  -type_list = [\"10\",\"20\",\"30\",\"40\",\"50\"]\n",
        "int_list = [int(x) for x in type_list]\n",
        "print(\"Integer list:\", int_list)\n",
        "\n",
        "float_list = [float(x) for x in type_list]\n",
        "print(\"Float list:\", float_list)\n",
        "\n",
        "str_list = [str(x) for x in type_list]\n",
        "print(\"String list:\",str_list)\n"
      ],
      "metadata": {
        "id": "v71dQD3v57iL"
      }
    },
    {
      "cell_type": "code",
      "source": [
        "type_list = [\"10\",\"20\",\"30\",\"40\",\"50\"]\n",
        "int_list = [int(x) for x in type_list]\n",
        "print(\"Integer list:\", int_list)\n",
        "\n",
        "float_list = [float(x) for x in type_list]\n",
        "print(\"Float list:\", float_list)\n",
        "\n",
        "str_list = [str(x) for x in type_list]\n",
        "print(\"String list:\",str_list)"
      ],
      "metadata": {
        "colab": {
          "base_uri": "https://localhost:8080/"
        },
        "id": "1cF4KqW66FKj",
        "outputId": "d325cc2f-92b5-47db-dd87-fded708e4bbd"
      },
      "execution_count": 19,
      "outputs": [
        {
          "output_type": "stream",
          "name": "stdout",
          "text": [
            "Integer list: [10, 20, 30, 40, 50]\n",
            "Float list: [10.0, 20.0, 30.0, 40.0, 50.0]\n",
            "String list: ['10', '20', '30', '40', '50']\n"
          ]
        }
      ]
    },
    {
      "cell_type": "markdown",
      "source": [
        "11. Write a program that checks if a number is positive, negative or zero.\n",
        "\n",
        "  -\n",
        "a = int(input(\"Enter a number:\"))\n",
        "if(a>0):\n",
        "  print(\"The number entered is positive\")\n",
        "elif(a<0):\n",
        "  print(\"The number entered is negative\")\n",
        "else:\n",
        "  print(\"The number entered is zero\")"
      ],
      "metadata": {
        "id": "lNEgT6pS68qK"
      }
    },
    {
      "cell_type": "code",
      "source": [
        "a = int(input(\"Enter a number:\"))\n",
        "if(a>0):\n",
        "  print(\"The number entered is positive\")\n",
        "elif(a<0):\n",
        "  print(\"The number entered is negative\")\n",
        "else:\n",
        "  print(\"The number entered is zero\")"
      ],
      "metadata": {
        "colab": {
          "base_uri": "https://localhost:8080/"
        },
        "id": "_wULKW3f7Jk7",
        "outputId": "f3a4518c-a26b-45e5-8889-0dbc9736f371"
      },
      "execution_count": 23,
      "outputs": [
        {
          "output_type": "stream",
          "name": "stdout",
          "text": [
            "Enter a number:-82\n",
            "The number entered is negative\n"
          ]
        }
      ]
    },
    {
      "cell_type": "markdown",
      "source": [
        "12. Write a for loop to print numbers from 1 to 10.\n",
        "  -\n",
        "  a = 1\n",
        "  for i in range(1,11 ,+1):\n",
        "  print(i)"
      ],
      "metadata": {
        "id": "ns56fzIB8CZ5"
      }
    },
    {
      "cell_type": "code",
      "source": [
        "a = 1\n",
        "for i in range(1,11 ,+1):\n",
        "  print(i)"
      ],
      "metadata": {
        "colab": {
          "base_uri": "https://localhost:8080/"
        },
        "id": "dy6NimFp8Inw",
        "outputId": "3af9bc7b-7c66-496b-e6b1-142ec54286a1"
      },
      "execution_count": 26,
      "outputs": [
        {
          "output_type": "stream",
          "name": "stdout",
          "text": [
            "1\n",
            "2\n",
            "3\n",
            "4\n",
            "5\n",
            "6\n",
            "7\n",
            "8\n",
            "9\n",
            "10\n"
          ]
        }
      ]
    },
    {
      "cell_type": "markdown",
      "source": [
        "13. Write a Python program to find the sum of all even numbers between 1 and 50.\n",
        "  - a = 0\n",
        "for i in range(1,51):\n",
        "  if i%2 == 0:\n",
        "    a += i\n",
        "print(\"Sum of all even numbers from 1 to 50 is :\", a)\n"
      ],
      "metadata": {
        "id": "18yXQe0g8o56"
      }
    },
    {
      "cell_type": "code",
      "source": [
        "a = 0\n",
        "for i in range(1,51):\n",
        "  if i%2 == 0:\n",
        "    a += i\n",
        "print(\"Sum of all even numbers from 1 to 50 is :\", a)"
      ],
      "metadata": {
        "colab": {
          "base_uri": "https://localhost:8080/"
        },
        "id": "mWFOS2Nh9fbV",
        "outputId": "46d3403d-4aba-479c-dc45-80e45e52fa73"
      },
      "execution_count": 35,
      "outputs": [
        {
          "output_type": "stream",
          "name": "stdout",
          "text": [
            "Sum of all even numbers from 1 to 50 is : 650\n"
          ]
        }
      ]
    },
    {
      "cell_type": "markdown",
      "source": [
        "14.  Write a program to reverse a string using a while loop.\n",
        "  - s = input(\"Enter a string:\")\n",
        "i = len(s)-1\n",
        "rev = \"\"\n",
        "\n",
        "while i>=0:\n",
        "  rev += s[i]\n",
        "  i -= 1\n",
        "print(rev)\n"
      ],
      "metadata": {
        "id": "s0g9Rrwf_gAM"
      }
    },
    {
      "cell_type": "code",
      "source": [
        "s = input(\"Enter a string:\")\n",
        "i = len(s)-1\n",
        "rev = \"\"\n",
        "\n",
        "while i>=0:\n",
        "  rev += s[i]\n",
        "  i -= 1\n",
        "print(rev)\n"
      ],
      "metadata": {
        "colab": {
          "base_uri": "https://localhost:8080/"
        },
        "id": "fB4eebEZ_yA9",
        "outputId": "b9d326cc-0549-4029-ce6e-183095681d04"
      },
      "execution_count": 36,
      "outputs": [
        {
          "output_type": "stream",
          "name": "stdout",
          "text": [
            "Enter a string:Garima\n",
            "amiraG\n"
          ]
        }
      ]
    },
    {
      "cell_type": "markdown",
      "source": [
        "15. Write a Python program to calculate the factorial of a number provided by the user using a while loop.\n",
        "  - num = int(input(\"Enter a number:\"))\n",
        "fact = 1\n",
        "i =1\n",
        "\n",
        "while i <= num:\n",
        "  fact *= i\n",
        "  i += 1\n",
        "print(\"Factorial of the number is :\",fact)"
      ],
      "metadata": {
        "id": "EOmzMjwQBOTa"
      }
    },
    {
      "cell_type": "code",
      "source": [
        "num = int(input(\"Enter a number:\"))\n",
        "fact = 1\n",
        "i =1\n",
        "\n",
        "while i <= num:\n",
        "  fact *= i\n",
        "  i += 1\n",
        "print(\"Factorial of the number is :\",fact)"
      ],
      "metadata": {
        "colab": {
          "base_uri": "https://localhost:8080/"
        },
        "id": "SNL28YHqBfPc",
        "outputId": "4afb51c4-c328-42a8-f647-ab665dc1b1e8"
      },
      "execution_count": 39,
      "outputs": [
        {
          "output_type": "stream",
          "name": "stdout",
          "text": [
            "Enter a number:8\n",
            "Factorial of the number is : 40320\n"
          ]
        }
      ]
    }
  ]
}